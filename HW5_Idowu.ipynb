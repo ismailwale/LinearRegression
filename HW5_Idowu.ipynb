{
 "cells": [
  {
   "cell_type": "code",
   "execution_count": 1,
   "metadata": {},
   "outputs": [],
   "source": [
    "import numpy as np\n",
    "import pandas as pd\n",
    "import matplotlib.pyplot as plt\n",
    "import seaborn as sns\n",
    "from sklearn.linear_model import LinearRegression\n",
    "from sklearn.model_selection import train_test_split\n",
    "import math\n",
    "%matplotlib inline"
   ]
  },
  {
   "cell_type": "code",
   "execution_count": 2,
   "metadata": {},
   "outputs": [],
   "source": [
    "x = np.array([95,85,80,70,60]).reshape((-1, 1))\n",
    "y = np.array([85,95,70,65,70])\n"
   ]
  },
  {
   "cell_type": "code",
   "execution_count": 3,
   "metadata": {},
   "outputs": [
    {
     "data": {
      "text/plain": [
       "Text(0, 0.5, 'Dependent variable y')"
      ]
     },
     "execution_count": 3,
     "metadata": {},
     "output_type": "execute_result"
    },
    {
     "data": {
      "image/png": "[encoded data removed]",
      "text/plain": [
       "<Figure size 432x288 with 1 Axes>"
      ]
     },
     "metadata": {
      "needs_background": "light"
     },
     "output_type": "display_data"
    }
   ],
   "source": [
    "plt.scatter(x,y)\n",
    "plt.xlabel('Independent variable X')\n",
    "plt.ylabel('Dependent variable y')"
   ]
  },
  {
   "cell_type": "code",
   "execution_count": 4,
   "metadata": {},
   "outputs": [
    {
     "data": {
      "text/plain": [
       "(array([[95],\n",
       "        [85],\n",
       "        [80],\n",
       "        [70],\n",
       "        [60]]), 78.0)"
      ]
     },
     "execution_count": 4,
     "metadata": {},
     "output_type": "execute_result"
    }
   ],
   "source": [
    "x, x.mean()"
   ]
  },
  {
   "cell_type": "code",
   "execution_count": 5,
   "metadata": {},
   "outputs": [
    {
     "data": {
      "text/plain": [
       "(array([85, 95, 70, 65, 70]), 77.0)"
      ]
     },
     "execution_count": 5,
     "metadata": {},
     "output_type": "execute_result"
    }
   ],
   "source": [
    "y, y.mean()"
   ]
  },
  {
   "cell_type": "code",
   "execution_count": 6,
   "metadata": {},
   "outputs": [],
   "source": [
    "model = LinearRegression()"
   ]
  },
  {
   "cell_type": "code",
   "execution_count": 7,
   "metadata": {},
   "outputs": [],
   "source": [
    "model = model.fit(x, y)"
   ]
  },
  {
   "cell_type": "code",
   "execution_count": 8,
   "metadata": {},
   "outputs": [
    {
     "name": "stdout",
     "output_type": "stream",
     "text": [
      "intercept: 26.780821917808225\n"
     ]
    }
   ],
   "source": [
    "print('intercept:', model.intercept_)"
   ]
  },
  {
   "cell_type": "code",
   "execution_count": 9,
   "metadata": {},
   "outputs": [
    {
     "name": "stdout",
     "output_type": "stream",
     "text": [
      "slope: [0.64383562]\n"
     ]
    }
   ],
   "source": [
    "print('slope:', model.coef_)"
   ]
  },
  {
   "cell_type": "code",
   "execution_count": 10,
   "metadata": {},
   "outputs": [],
   "source": [
    "y_pred = model.predict(x)"
   ]
  },
  {
   "cell_type": "code",
   "execution_count": 11,
   "metadata": {},
   "outputs": [],
   "source": [
    "linear_equ= model.intercept_ + model.coef_ * x"
   ]
  },
  {
   "cell_type": "markdown",
   "metadata": {},
   "source": [
    "## 1b"
   ]
  },
  {
   "cell_type": "code",
   "execution_count": 12,
   "metadata": {},
   "outputs": [],
   "source": [
    "## X_80\n",
    "k= np.array([x[2,0]]).reshape((-1, 1))"
   ]
  },
  {
   "cell_type": "code",
   "execution_count": 13,
   "metadata": {},
   "outputs": [
    {
     "data": {
      "text/plain": [
       "array([[80]])"
      ]
     },
     "execution_count": 13,
     "metadata": {},
     "output_type": "execute_result"
    }
   ],
   "source": [
    "k"
   ]
  },
  {
   "cell_type": "code",
   "execution_count": 14,
   "metadata": {},
   "outputs": [
    {
     "data": {
      "text/plain": [
       "array([78.28767123])"
      ]
     },
     "execution_count": 14,
     "metadata": {},
     "output_type": "execute_result"
    }
   ],
   "source": [
    "y_80 = model.predict(k)\n",
    "y_80"
   ]
  },
  {
   "cell_type": "markdown",
   "metadata": {},
   "source": [
    "## 1c"
   ]
  },
  {
   "cell_type": "code",
   "execution_count": 15,
   "metadata": {},
   "outputs": [
    {
     "data": {
      "text/plain": [
       "array([[87.94520548],\n",
       "       [81.50684932],\n",
       "       [78.28767123],\n",
       "       [71.84931507],\n",
       "       [65.4109589 ]])"
      ]
     },
     "execution_count": 15,
     "metadata": {},
     "output_type": "execute_result"
    }
   ],
   "source": [
    "linear_equantn = model.intercept_ + model.coef_ * x\n",
    "linear_equantn"
   ]
  },
  {
   "cell_type": "code",
   "execution_count": 16,
   "metadata": {},
   "outputs": [
    {
     "data": {
      "text/html": [
       "<div>\n",
       "<style scoped>\n",
       "    .dataframe tbody tr th:only-of-type {\n",
       "        vertical-align: middle;\n",
       "    }\n",
       "\n",
       "    .dataframe tbody tr th {\n",
       "        vertical-align: top;\n",
       "    }\n",
       "\n",
       "    .dataframe thead th {\n",
       "        text-align: right;\n",
       "    }\n",
       "</style>\n",
       "<table border=\"1\" class=\"dataframe\">\n",
       "  <thead>\n",
       "    <tr style=\"text-align: right;\">\n",
       "      <th></th>\n",
       "      <th>Actual</th>\n",
       "      <th>Predicted</th>\n",
       "    </tr>\n",
       "  </thead>\n",
       "  <tbody>\n",
       "    <tr>\n",
       "      <td>0</td>\n",
       "      <td>85</td>\n",
       "      <td>87.945205</td>\n",
       "    </tr>\n",
       "    <tr>\n",
       "      <td>1</td>\n",
       "      <td>95</td>\n",
       "      <td>81.506849</td>\n",
       "    </tr>\n",
       "    <tr>\n",
       "      <td>2</td>\n",
       "      <td>70</td>\n",
       "      <td>78.287671</td>\n",
       "    </tr>\n",
       "    <tr>\n",
       "      <td>3</td>\n",
       "      <td>65</td>\n",
       "      <td>71.849315</td>\n",
       "    </tr>\n",
       "    <tr>\n",
       "      <td>4</td>\n",
       "      <td>70</td>\n",
       "      <td>65.410959</td>\n",
       "    </tr>\n",
       "  </tbody>\n",
       "</table>\n",
       "</div>"
      ],
      "text/plain": [
       "   Actual  Predicted\n",
       "0      85  87.945205\n",
       "1      95  81.506849\n",
       "2      70  78.287671\n",
       "3      65  71.849315\n",
       "4      70  65.410959"
      ]
     },
     "execution_count": 16,
     "metadata": {},
     "output_type": "execute_result"
    }
   ],
   "source": [
    "df = pd.DataFrame({'Actual': y, 'Predicted': y_pred})\n",
    "df"
   ]
  },
  {
   "cell_type": "code",
   "execution_count": 17,
   "metadata": {},
   "outputs": [
    {
     "data": {
      "image/png": "[encoded data removed]",
      "text/plain": [
       "<Figure size 720x576 with 1 Axes>"
      ]
     },
     "metadata": {
      "needs_background": "light"
     },
     "output_type": "display_data"
    }
   ],
   "source": [
    "## note very important to code to keep.\n",
    "\n",
    "df.plot(kind = 'bar',figsize = (10,8))\n",
    "plt.grid(which = 'minor', linestyle = '-',linewidth = '0.8',color = 'gray')\n",
    "plt.grid(which = 'minor', linestyle = '-',linewidth = '0.8',color = 'green')\n",
    "plt.show()"
   ]
  },
  {
   "cell_type": "code",
   "execution_count": 18,
   "metadata": {},
   "outputs": [
    {
     "data": {
      "text/plain": [
       "Text(0, 0.5, 'grade')"
      ]
     },
     "execution_count": 18,
     "metadata": {},
     "output_type": "execute_result"
    },
    {
     "data": {
      "image/png": "[encoded data removed]",
      "text/plain": [
       "<Figure size 432x288 with 1 Axes>"
      ]
     },
     "metadata": {
      "needs_background": "light"
     },
     "output_type": "display_data"
    }
   ],
   "source": [
    "plt.scatter(x, y, color = 'red')\n",
    "plt.plot(x, y_pred, color = 'green')\n",
    "plt.xlabel('score')\n",
    "plt.ylabel('grade')"
   ]
  },
  {
   "cell_type": "code",
   "execution_count": 19,
   "metadata": {},
   "outputs": [],
   "source": [
    "# error plot g = plt.plot(y_test1 - y_pred_test_Forestreg,marker='o',linestyle='')"
   ]
  },
  {
   "cell_type": "markdown",
   "metadata": {},
   "source": [
    "## 1d"
   ]
  },
  {
   "cell_type": "code",
   "execution_count": 20,
   "metadata": {},
   "outputs": [
    {
     "name": "stdout",
     "output_type": "stream",
     "text": [
      "Mean Absolute Error: 7.232876712328766\n",
      "Mean Squared Error: 65.4794520547945\n",
      "Root Mean Squared Error: 8.09193747224943\n"
     ]
    }
   ],
   "source": [
    "from sklearn import metrics\n",
    "print('Mean Absolute Error:', metrics.mean_absolute_error(y, y_pred))\n",
    "print('Mean Squared Error:', metrics.mean_squared_error(y , y_pred))\n",
    "print('Root Mean Squared Error:', np.sqrt(metrics.mean_squared_error(y , y_pred)))"
   ]
  },
  {
   "cell_type": "code",
   "execution_count": 21,
   "metadata": {},
   "outputs": [],
   "source": [
    "x_new = np.arange(5).reshape((-1, 1))"
   ]
  },
  {
   "cell_type": "code",
   "execution_count": 22,
   "metadata": {},
   "outputs": [],
   "source": [
    "y_new = model.predict(x_new)"
   ]
  },
  {
   "cell_type": "code",
   "execution_count": 23,
   "metadata": {},
   "outputs": [
    {
     "name": "stdout",
     "output_type": "stream",
     "text": [
      "[26.78082192 27.42465753 28.06849315 28.71232877 29.35616438]\n"
     ]
    }
   ],
   "source": [
    " print(y_new)"
   ]
  },
  {
   "cell_type": "code",
   "execution_count": null,
   "metadata": {},
   "outputs": [],
   "source": []
  },
  {
   "cell_type": "markdown",
   "metadata": {},
   "source": [
    "## Question 2a"
   ]
  },
  {
   "cell_type": "code",
   "execution_count": 24,
   "metadata": {},
   "outputs": [],
   "source": [
    "df2 = pd.read_csv('zillow_data.csv')"
   ]
  },
  {
   "cell_type": "code",
   "execution_count": 25,
   "metadata": {},
   "outputs": [
    {
     "data": {
      "text/html": [
       "<div>\n",
       "<style scoped>\n",
       "    .dataframe tbody tr th:only-of-type {\n",
       "        vertical-align: middle;\n",
       "    }\n",
       "\n",
       "    .dataframe tbody tr th {\n",
       "        vertical-align: top;\n",
       "    }\n",
       "\n",
       "    .dataframe thead th {\n",
       "        text-align: right;\n",
       "    }\n",
       "</style>\n",
       "<table border=\"1\" class=\"dataframe\">\n",
       "  <thead>\n",
       "    <tr style=\"text-align: right;\">\n",
       "      <th></th>\n",
       "      <th>Index</th>\n",
       "      <th>\"Living Space (sq ft)\"</th>\n",
       "      <th>\"Beds\"</th>\n",
       "      <th>\"Baths\"</th>\n",
       "      <th>\"Zip\"</th>\n",
       "      <th>\"Year\"</th>\n",
       "      <th>\"List Price ($)\"</th>\n",
       "    </tr>\n",
       "  </thead>\n",
       "  <tbody>\n",
       "    <tr>\n",
       "      <td>0</td>\n",
       "      <td>1</td>\n",
       "      <td>2222</td>\n",
       "      <td>3</td>\n",
       "      <td>3.5</td>\n",
       "      <td>32312</td>\n",
       "      <td>1981</td>\n",
       "      <td>250000</td>\n",
       "    </tr>\n",
       "    <tr>\n",
       "      <td>1</td>\n",
       "      <td>2</td>\n",
       "      <td>1628</td>\n",
       "      <td>3</td>\n",
       "      <td>2.0</td>\n",
       "      <td>32308</td>\n",
       "      <td>2009</td>\n",
       "      <td>185000</td>\n",
       "    </tr>\n",
       "    <tr>\n",
       "      <td>2</td>\n",
       "      <td>3</td>\n",
       "      <td>3824</td>\n",
       "      <td>5</td>\n",
       "      <td>4.0</td>\n",
       "      <td>32312</td>\n",
       "      <td>1954</td>\n",
       "      <td>399000</td>\n",
       "    </tr>\n",
       "    <tr>\n",
       "      <td>3</td>\n",
       "      <td>4</td>\n",
       "      <td>1137</td>\n",
       "      <td>3</td>\n",
       "      <td>2.0</td>\n",
       "      <td>32309</td>\n",
       "      <td>1993</td>\n",
       "      <td>150000</td>\n",
       "    </tr>\n",
       "    <tr>\n",
       "      <td>4</td>\n",
       "      <td>5</td>\n",
       "      <td>3560</td>\n",
       "      <td>6</td>\n",
       "      <td>4.0</td>\n",
       "      <td>32309</td>\n",
       "      <td>1973</td>\n",
       "      <td>315000</td>\n",
       "    </tr>\n",
       "    <tr>\n",
       "      <td>5</td>\n",
       "      <td>6</td>\n",
       "      <td>2893</td>\n",
       "      <td>4</td>\n",
       "      <td>3.0</td>\n",
       "      <td>32312</td>\n",
       "      <td>1994</td>\n",
       "      <td>699000</td>\n",
       "    </tr>\n",
       "    <tr>\n",
       "      <td>6</td>\n",
       "      <td>7</td>\n",
       "      <td>3631</td>\n",
       "      <td>4</td>\n",
       "      <td>3.0</td>\n",
       "      <td>32309</td>\n",
       "      <td>1996</td>\n",
       "      <td>649000</td>\n",
       "    </tr>\n",
       "    <tr>\n",
       "      <td>7</td>\n",
       "      <td>8</td>\n",
       "      <td>2483</td>\n",
       "      <td>4</td>\n",
       "      <td>3.0</td>\n",
       "      <td>32312</td>\n",
       "      <td>2016</td>\n",
       "      <td>399000</td>\n",
       "    </tr>\n",
       "    <tr>\n",
       "      <td>8</td>\n",
       "      <td>9</td>\n",
       "      <td>2400</td>\n",
       "      <td>4</td>\n",
       "      <td>4.0</td>\n",
       "      <td>32312</td>\n",
       "      <td>2002</td>\n",
       "      <td>613000</td>\n",
       "    </tr>\n",
       "    <tr>\n",
       "      <td>9</td>\n",
       "      <td>10</td>\n",
       "      <td>1997</td>\n",
       "      <td>3</td>\n",
       "      <td>3.0</td>\n",
       "      <td>32311</td>\n",
       "      <td>2006</td>\n",
       "      <td>295000</td>\n",
       "    </tr>\n",
       "    <tr>\n",
       "      <td>10</td>\n",
       "      <td>11</td>\n",
       "      <td>2097</td>\n",
       "      <td>4</td>\n",
       "      <td>3.0</td>\n",
       "      <td>32311</td>\n",
       "      <td>2016</td>\n",
       "      <td>290000</td>\n",
       "    </tr>\n",
       "    <tr>\n",
       "      <td>11</td>\n",
       "      <td>12</td>\n",
       "      <td>3200</td>\n",
       "      <td>5</td>\n",
       "      <td>4.0</td>\n",
       "      <td>32312</td>\n",
       "      <td>1964</td>\n",
       "      <td>465000</td>\n",
       "    </tr>\n",
       "    <tr>\n",
       "      <td>12</td>\n",
       "      <td>13</td>\n",
       "      <td>4892</td>\n",
       "      <td>5</td>\n",
       "      <td>6.0</td>\n",
       "      <td>32311</td>\n",
       "      <td>2005</td>\n",
       "      <td>799900</td>\n",
       "    </tr>\n",
       "    <tr>\n",
       "      <td>13</td>\n",
       "      <td>14</td>\n",
       "      <td>1128</td>\n",
       "      <td>2</td>\n",
       "      <td>1.0</td>\n",
       "      <td>32303</td>\n",
       "      <td>1955</td>\n",
       "      <td>89000</td>\n",
       "    </tr>\n",
       "    <tr>\n",
       "      <td>14</td>\n",
       "      <td>15</td>\n",
       "      <td>1381</td>\n",
       "      <td>3</td>\n",
       "      <td>2.0</td>\n",
       "      <td>32301</td>\n",
       "      <td>2006</td>\n",
       "      <td>143000</td>\n",
       "    </tr>\n",
       "    <tr>\n",
       "      <td>15</td>\n",
       "      <td>16</td>\n",
       "      <td>4242</td>\n",
       "      <td>4</td>\n",
       "      <td>5.0</td>\n",
       "      <td>32303</td>\n",
       "      <td>2007</td>\n",
       "      <td>569000</td>\n",
       "    </tr>\n",
       "    <tr>\n",
       "      <td>16</td>\n",
       "      <td>17</td>\n",
       "      <td>2533</td>\n",
       "      <td>3</td>\n",
       "      <td>2.0</td>\n",
       "      <td>32310</td>\n",
       "      <td>1991</td>\n",
       "      <td>365000</td>\n",
       "    </tr>\n",
       "    <tr>\n",
       "      <td>17</td>\n",
       "      <td>18</td>\n",
       "      <td>1158</td>\n",
       "      <td>3</td>\n",
       "      <td>2.0</td>\n",
       "      <td>32303</td>\n",
       "      <td>1993</td>\n",
       "      <td>155000</td>\n",
       "    </tr>\n",
       "    <tr>\n",
       "      <td>18</td>\n",
       "      <td>19</td>\n",
       "      <td>2497</td>\n",
       "      <td>4</td>\n",
       "      <td>4.0</td>\n",
       "      <td>32309</td>\n",
       "      <td>1990</td>\n",
       "      <td>289000</td>\n",
       "    </tr>\n",
       "    <tr>\n",
       "      <td>19</td>\n",
       "      <td>20</td>\n",
       "      <td>4010</td>\n",
       "      <td>5</td>\n",
       "      <td>3.0</td>\n",
       "      <td>32309</td>\n",
       "      <td>2002</td>\n",
       "      <td>549900</td>\n",
       "    </tr>\n",
       "  </tbody>\n",
       "</table>\n",
       "</div>"
      ],
      "text/plain": [
       "    Index   \"Living Space (sq ft)\"   \"Beds\"   \"Baths\"   \"Zip\"   \"Year\"  \\\n",
       "0       1                     2222        3       3.5   32312     1981   \n",
       "1       2                     1628        3       2.0   32308     2009   \n",
       "2       3                     3824        5       4.0   32312     1954   \n",
       "3       4                     1137        3       2.0   32309     1993   \n",
       "4       5                     3560        6       4.0   32309     1973   \n",
       "5       6                     2893        4       3.0   32312     1994   \n",
       "6       7                     3631        4       3.0   32309     1996   \n",
       "7       8                     2483        4       3.0   32312     2016   \n",
       "8       9                     2400        4       4.0   32312     2002   \n",
       "9      10                     1997        3       3.0   32311     2006   \n",
       "10     11                     2097        4       3.0   32311     2016   \n",
       "11     12                     3200        5       4.0   32312     1964   \n",
       "12     13                     4892        5       6.0   32311     2005   \n",
       "13     14                     1128        2       1.0   32303     1955   \n",
       "14     15                     1381        3       2.0   32301     2006   \n",
       "15     16                     4242        4       5.0   32303     2007   \n",
       "16     17                     2533        3       2.0   32310     1991   \n",
       "17     18                     1158        3       2.0   32303     1993   \n",
       "18     19                     2497        4       4.0   32309     1990   \n",
       "19     20                     4010        5       3.0   32309     2002   \n",
       "\n",
       "     \"List Price ($)\"  \n",
       "0              250000  \n",
       "1              185000  \n",
       "2              399000  \n",
       "3              150000  \n",
       "4              315000  \n",
       "5              699000  \n",
       "6              649000  \n",
       "7              399000  \n",
       "8              613000  \n",
       "9              295000  \n",
       "10             290000  \n",
       "11             465000  \n",
       "12             799900  \n",
       "13              89000  \n",
       "14             143000  \n",
       "15             569000  \n",
       "16             365000  \n",
       "17             155000  \n",
       "18             289000  \n",
       "19             549900  "
      ]
     },
     "execution_count": 25,
     "metadata": {},
     "output_type": "execute_result"
    }
   ],
   "source": [
    "df2"
   ]
  },
  {
   "cell_type": "code",
   "execution_count": 26,
   "metadata": {},
   "outputs": [
    {
     "data": {
      "text/html": [
       "<div>\n",
       "<style scoped>\n",
       "    .dataframe tbody tr th:only-of-type {\n",
       "        vertical-align: middle;\n",
       "    }\n",
       "\n",
       "    .dataframe tbody tr th {\n",
       "        vertical-align: top;\n",
       "    }\n",
       "\n",
       "    .dataframe thead th {\n",
       "        text-align: right;\n",
       "    }\n",
       "</style>\n",
       "<table border=\"1\" class=\"dataframe\">\n",
       "  <thead>\n",
       "    <tr style=\"text-align: right;\">\n",
       "      <th></th>\n",
       "      <th>Index</th>\n",
       "      <th>\"Living Space (sq ft)\"</th>\n",
       "      <th>\"Beds\"</th>\n",
       "      <th>\"Baths\"</th>\n",
       "      <th>\"Zip\"</th>\n",
       "      <th>\"Year\"</th>\n",
       "      <th>\"List Price ($)\"</th>\n",
       "    </tr>\n",
       "  </thead>\n",
       "  <tbody>\n",
       "    <tr>\n",
       "      <td>count</td>\n",
       "      <td>20.00000</td>\n",
       "      <td>20.000000</td>\n",
       "      <td>20.000000</td>\n",
       "      <td>20.00000</td>\n",
       "      <td>20.000000</td>\n",
       "      <td>20.000000</td>\n",
       "      <td>20.000000</td>\n",
       "    </tr>\n",
       "    <tr>\n",
       "      <td>mean</td>\n",
       "      <td>10.50000</td>\n",
       "      <td>2645.650000</td>\n",
       "      <td>3.850000</td>\n",
       "      <td>3.17500</td>\n",
       "      <td>32308.900000</td>\n",
       "      <td>1992.650000</td>\n",
       "      <td>383440.000000</td>\n",
       "    </tr>\n",
       "    <tr>\n",
       "      <td>std</td>\n",
       "      <td>5.91608</td>\n",
       "      <td>1111.423614</td>\n",
       "      <td>0.988087</td>\n",
       "      <td>1.18405</td>\n",
       "      <td>3.552612</td>\n",
       "      <td>18.530984</td>\n",
       "      <td>205756.671312</td>\n",
       "    </tr>\n",
       "    <tr>\n",
       "      <td>min</td>\n",
       "      <td>1.00000</td>\n",
       "      <td>1128.000000</td>\n",
       "      <td>2.000000</td>\n",
       "      <td>1.00000</td>\n",
       "      <td>32301.000000</td>\n",
       "      <td>1954.000000</td>\n",
       "      <td>89000.000000</td>\n",
       "    </tr>\n",
       "    <tr>\n",
       "      <td>25%</td>\n",
       "      <td>5.75000</td>\n",
       "      <td>1904.750000</td>\n",
       "      <td>3.000000</td>\n",
       "      <td>2.00000</td>\n",
       "      <td>32308.750000</td>\n",
       "      <td>1987.750000</td>\n",
       "      <td>233750.000000</td>\n",
       "    </tr>\n",
       "    <tr>\n",
       "      <td>50%</td>\n",
       "      <td>10.50000</td>\n",
       "      <td>2490.000000</td>\n",
       "      <td>4.000000</td>\n",
       "      <td>3.00000</td>\n",
       "      <td>32309.500000</td>\n",
       "      <td>1995.000000</td>\n",
       "      <td>340000.000000</td>\n",
       "    </tr>\n",
       "    <tr>\n",
       "      <td>75%</td>\n",
       "      <td>15.25000</td>\n",
       "      <td>3577.750000</td>\n",
       "      <td>4.250000</td>\n",
       "      <td>4.00000</td>\n",
       "      <td>32312.000000</td>\n",
       "      <td>2006.000000</td>\n",
       "      <td>554675.000000</td>\n",
       "    </tr>\n",
       "    <tr>\n",
       "      <td>max</td>\n",
       "      <td>20.00000</td>\n",
       "      <td>4892.000000</td>\n",
       "      <td>6.000000</td>\n",
       "      <td>6.00000</td>\n",
       "      <td>32312.000000</td>\n",
       "      <td>2016.000000</td>\n",
       "      <td>799900.000000</td>\n",
       "    </tr>\n",
       "  </tbody>\n",
       "</table>\n",
       "</div>"
      ],
      "text/plain": [
       "          Index   \"Living Space (sq ft)\"     \"Beds\"   \"Baths\"         \"Zip\"  \\\n",
       "count  20.00000                20.000000  20.000000  20.00000     20.000000   \n",
       "mean   10.50000              2645.650000   3.850000   3.17500  32308.900000   \n",
       "std     5.91608              1111.423614   0.988087   1.18405      3.552612   \n",
       "min     1.00000              1128.000000   2.000000   1.00000  32301.000000   \n",
       "25%     5.75000              1904.750000   3.000000   2.00000  32308.750000   \n",
       "50%    10.50000              2490.000000   4.000000   3.00000  32309.500000   \n",
       "75%    15.25000              3577.750000   4.250000   4.00000  32312.000000   \n",
       "max    20.00000              4892.000000   6.000000   6.00000  32312.000000   \n",
       "\n",
       "            \"Year\"   \"List Price ($)\"  \n",
       "count    20.000000          20.000000  \n",
       "mean   1992.650000      383440.000000  \n",
       "std      18.530984      205756.671312  \n",
       "min    1954.000000       89000.000000  \n",
       "25%    1987.750000      233750.000000  \n",
       "50%    1995.000000      340000.000000  \n",
       "75%    2006.000000      554675.000000  \n",
       "max    2016.000000      799900.000000  "
      ]
     },
     "execution_count": 26,
     "metadata": {},
     "output_type": "execute_result"
    }
   ],
   "source": [
    " df2.describe()"
   ]
  },
  {
   "cell_type": "markdown",
   "metadata": {},
   "source": [
    "df.plot(x='Living Space', y ='List Price', style='o')\n",
    "plt.title('Hours vs Percentage')\n",
    "plt.xlabel('Hours Studied')\n",
    "plt.ylabel('Percentage Score')\n",
    "plt.show()"
   ]
  },
  {
   "cell_type": "code",
   "execution_count": 27,
   "metadata": {},
   "outputs": [],
   "source": [
    "#pd.plotting.scatter_matrix(df2,figsize = (10,8), diagonal = 'kde')"
   ]
  },
  {
   "cell_type": "code",
   "execution_count": 28,
   "metadata": {},
   "outputs": [
    {
     "data": {
      "text/plain": [
       "Index(['Index', ' \"Living Space (sq ft)\"', ' \"Beds\"', ' \"Baths\"', ' \"Zip\"',\n",
       "       ' \"Year\"', ' \"List Price ($)\"'],\n",
       "      dtype='object')"
      ]
     },
     "execution_count": 28,
     "metadata": {},
     "output_type": "execute_result"
    }
   ],
   "source": [
    "df2.columns"
   ]
  },
  {
   "cell_type": "code",
   "execution_count": 29,
   "metadata": {},
   "outputs": [
    {
     "data": {
      "text/html": [
       "<div>\n",
       "<style scoped>\n",
       "    .dataframe tbody tr th:only-of-type {\n",
       "        vertical-align: middle;\n",
       "    }\n",
       "\n",
       "    .dataframe tbody tr th {\n",
       "        vertical-align: top;\n",
       "    }\n",
       "\n",
       "    .dataframe thead th {\n",
       "        text-align: right;\n",
       "    }\n",
       "</style>\n",
       "<table border=\"1\" class=\"dataframe\">\n",
       "  <thead>\n",
       "    <tr style=\"text-align: right;\">\n",
       "      <th></th>\n",
       "      <th>index</th>\n",
       "      <th>Living Space</th>\n",
       "      <th>Beds</th>\n",
       "      <th>Baths</th>\n",
       "      <th>Zip</th>\n",
       "      <th>Year</th>\n",
       "      <th>List Price</th>\n",
       "    </tr>\n",
       "  </thead>\n",
       "  <tbody>\n",
       "    <tr>\n",
       "      <td>0</td>\n",
       "      <td>1</td>\n",
       "      <td>2222</td>\n",
       "      <td>3</td>\n",
       "      <td>3.5</td>\n",
       "      <td>32312</td>\n",
       "      <td>1981</td>\n",
       "      <td>250000</td>\n",
       "    </tr>\n",
       "    <tr>\n",
       "      <td>1</td>\n",
       "      <td>2</td>\n",
       "      <td>1628</td>\n",
       "      <td>3</td>\n",
       "      <td>2.0</td>\n",
       "      <td>32308</td>\n",
       "      <td>2009</td>\n",
       "      <td>185000</td>\n",
       "    </tr>\n",
       "    <tr>\n",
       "      <td>2</td>\n",
       "      <td>3</td>\n",
       "      <td>3824</td>\n",
       "      <td>5</td>\n",
       "      <td>4.0</td>\n",
       "      <td>32312</td>\n",
       "      <td>1954</td>\n",
       "      <td>399000</td>\n",
       "    </tr>\n",
       "    <tr>\n",
       "      <td>3</td>\n",
       "      <td>4</td>\n",
       "      <td>1137</td>\n",
       "      <td>3</td>\n",
       "      <td>2.0</td>\n",
       "      <td>32309</td>\n",
       "      <td>1993</td>\n",
       "      <td>150000</td>\n",
       "    </tr>\n",
       "    <tr>\n",
       "      <td>4</td>\n",
       "      <td>5</td>\n",
       "      <td>3560</td>\n",
       "      <td>6</td>\n",
       "      <td>4.0</td>\n",
       "      <td>32309</td>\n",
       "      <td>1973</td>\n",
       "      <td>315000</td>\n",
       "    </tr>\n",
       "    <tr>\n",
       "      <td>5</td>\n",
       "      <td>6</td>\n",
       "      <td>2893</td>\n",
       "      <td>4</td>\n",
       "      <td>3.0</td>\n",
       "      <td>32312</td>\n",
       "      <td>1994</td>\n",
       "      <td>699000</td>\n",
       "    </tr>\n",
       "    <tr>\n",
       "      <td>6</td>\n",
       "      <td>7</td>\n",
       "      <td>3631</td>\n",
       "      <td>4</td>\n",
       "      <td>3.0</td>\n",
       "      <td>32309</td>\n",
       "      <td>1996</td>\n",
       "      <td>649000</td>\n",
       "    </tr>\n",
       "    <tr>\n",
       "      <td>7</td>\n",
       "      <td>8</td>\n",
       "      <td>2483</td>\n",
       "      <td>4</td>\n",
       "      <td>3.0</td>\n",
       "      <td>32312</td>\n",
       "      <td>2016</td>\n",
       "      <td>399000</td>\n",
       "    </tr>\n",
       "    <tr>\n",
       "      <td>8</td>\n",
       "      <td>9</td>\n",
       "      <td>2400</td>\n",
       "      <td>4</td>\n",
       "      <td>4.0</td>\n",
       "      <td>32312</td>\n",
       "      <td>2002</td>\n",
       "      <td>613000</td>\n",
       "    </tr>\n",
       "    <tr>\n",
       "      <td>9</td>\n",
       "      <td>10</td>\n",
       "      <td>1997</td>\n",
       "      <td>3</td>\n",
       "      <td>3.0</td>\n",
       "      <td>32311</td>\n",
       "      <td>2006</td>\n",
       "      <td>295000</td>\n",
       "    </tr>\n",
       "    <tr>\n",
       "      <td>10</td>\n",
       "      <td>11</td>\n",
       "      <td>2097</td>\n",
       "      <td>4</td>\n",
       "      <td>3.0</td>\n",
       "      <td>32311</td>\n",
       "      <td>2016</td>\n",
       "      <td>290000</td>\n",
       "    </tr>\n",
       "    <tr>\n",
       "      <td>11</td>\n",
       "      <td>12</td>\n",
       "      <td>3200</td>\n",
       "      <td>5</td>\n",
       "      <td>4.0</td>\n",
       "      <td>32312</td>\n",
       "      <td>1964</td>\n",
       "      <td>465000</td>\n",
       "    </tr>\n",
       "    <tr>\n",
       "      <td>12</td>\n",
       "      <td>13</td>\n",
       "      <td>4892</td>\n",
       "      <td>5</td>\n",
       "      <td>6.0</td>\n",
       "      <td>32311</td>\n",
       "      <td>2005</td>\n",
       "      <td>799900</td>\n",
       "    </tr>\n",
       "    <tr>\n",
       "      <td>13</td>\n",
       "      <td>14</td>\n",
       "      <td>1128</td>\n",
       "      <td>2</td>\n",
       "      <td>1.0</td>\n",
       "      <td>32303</td>\n",
       "      <td>1955</td>\n",
       "      <td>89000</td>\n",
       "    </tr>\n",
       "    <tr>\n",
       "      <td>14</td>\n",
       "      <td>15</td>\n",
       "      <td>1381</td>\n",
       "      <td>3</td>\n",
       "      <td>2.0</td>\n",
       "      <td>32301</td>\n",
       "      <td>2006</td>\n",
       "      <td>143000</td>\n",
       "    </tr>\n",
       "    <tr>\n",
       "      <td>15</td>\n",
       "      <td>16</td>\n",
       "      <td>4242</td>\n",
       "      <td>4</td>\n",
       "      <td>5.0</td>\n",
       "      <td>32303</td>\n",
       "      <td>2007</td>\n",
       "      <td>569000</td>\n",
       "    </tr>\n",
       "    <tr>\n",
       "      <td>16</td>\n",
       "      <td>17</td>\n",
       "      <td>2533</td>\n",
       "      <td>3</td>\n",
       "      <td>2.0</td>\n",
       "      <td>32310</td>\n",
       "      <td>1991</td>\n",
       "      <td>365000</td>\n",
       "    </tr>\n",
       "    <tr>\n",
       "      <td>17</td>\n",
       "      <td>18</td>\n",
       "      <td>1158</td>\n",
       "      <td>3</td>\n",
       "      <td>2.0</td>\n",
       "      <td>32303</td>\n",
       "      <td>1993</td>\n",
       "      <td>155000</td>\n",
       "    </tr>\n",
       "    <tr>\n",
       "      <td>18</td>\n",
       "      <td>19</td>\n",
       "      <td>2497</td>\n",
       "      <td>4</td>\n",
       "      <td>4.0</td>\n",
       "      <td>32309</td>\n",
       "      <td>1990</td>\n",
       "      <td>289000</td>\n",
       "    </tr>\n",
       "    <tr>\n",
       "      <td>19</td>\n",
       "      <td>20</td>\n",
       "      <td>4010</td>\n",
       "      <td>5</td>\n",
       "      <td>3.0</td>\n",
       "      <td>32309</td>\n",
       "      <td>2002</td>\n",
       "      <td>549900</td>\n",
       "    </tr>\n",
       "  </tbody>\n",
       "</table>\n",
       "</div>"
      ],
      "text/plain": [
       "    index  Living Space  Beds  Baths    Zip  Year  List Price\n",
       "0       1          2222     3    3.5  32312  1981      250000\n",
       "1       2          1628     3    2.0  32308  2009      185000\n",
       "2       3          3824     5    4.0  32312  1954      399000\n",
       "3       4          1137     3    2.0  32309  1993      150000\n",
       "4       5          3560     6    4.0  32309  1973      315000\n",
       "5       6          2893     4    3.0  32312  1994      699000\n",
       "6       7          3631     4    3.0  32309  1996      649000\n",
       "7       8          2483     4    3.0  32312  2016      399000\n",
       "8       9          2400     4    4.0  32312  2002      613000\n",
       "9      10          1997     3    3.0  32311  2006      295000\n",
       "10     11          2097     4    3.0  32311  2016      290000\n",
       "11     12          3200     5    4.0  32312  1964      465000\n",
       "12     13          4892     5    6.0  32311  2005      799900\n",
       "13     14          1128     2    1.0  32303  1955       89000\n",
       "14     15          1381     3    2.0  32301  2006      143000\n",
       "15     16          4242     4    5.0  32303  2007      569000\n",
       "16     17          2533     3    2.0  32310  1991      365000\n",
       "17     18          1158     3    2.0  32303  1993      155000\n",
       "18     19          2497     4    4.0  32309  1990      289000\n",
       "19     20          4010     5    3.0  32309  2002      549900"
      ]
     },
     "execution_count": 29,
     "metadata": {},
     "output_type": "execute_result"
    }
   ],
   "source": [
    "#df2.columns = [list of clumns]\n",
    "df2 .columns = ['index','Living Space','Beds','Baths','Zip','Year','List Price']\n",
    "df2"
   ]
  },
  {
   "cell_type": "code",
   "execution_count": null,
   "metadata": {},
   "outputs": [],
   "source": []
  },
  {
   "cell_type": "markdown",
   "metadata": {},
   "source": [
    "## 2b"
   ]
  },
  {
   "cell_type": "code",
   "execution_count": 30,
   "metadata": {},
   "outputs": [
    {
     "data": {
      "text/plain": [
       "array([[<matplotlib.axes._subplots.AxesSubplot object at 0x0000022DA8F7C308>,\n",
       "        <matplotlib.axes._subplots.AxesSubplot object at 0x0000022DA911C908>,\n",
       "        <matplotlib.axes._subplots.AxesSubplot object at 0x0000022DA9151648>],\n",
       "       [<matplotlib.axes._subplots.AxesSubplot object at 0x0000022DA9188B48>,\n",
       "        <matplotlib.axes._subplots.AxesSubplot object at 0x0000022DA91BEF08>,\n",
       "        <matplotlib.axes._subplots.AxesSubplot object at 0x0000022DA91FB408>],\n",
       "       [<matplotlib.axes._subplots.AxesSubplot object at 0x0000022DA9051488>,\n",
       "        <matplotlib.axes._subplots.AxesSubplot object at 0x0000022DA8FE5048>,\n",
       "        <matplotlib.axes._subplots.AxesSubplot object at 0x0000022DA9215E88>]],\n",
       "      dtype=object)"
      ]
     },
     "execution_count": 30,
     "metadata": {},
     "output_type": "execute_result"
    },
    {
     "data": {
      "image/png": "[encoded data removed]",
      "text/plain": [
       "<Figure size 720x576 with 9 Axes>"
      ]
     },
     "metadata": {
      "needs_background": "light"
     },
     "output_type": "display_data"
    }
   ],
   "source": [
    "pd.plotting.scatter_matrix(df2[['Living Space','List Price','Beds']],figsize = (10,8),marker='+')"
   ]
  },
  {
   "cell_type": "code",
   "execution_count": 31,
   "metadata": {},
   "outputs": [
    {
     "data": {
      "image/png": "[encoded data removed]",
      "text/plain": [
       "<Figure size 432x288 with 1 Axes>"
      ]
     },
     "metadata": {
      "needs_background": "light"
     },
     "output_type": "display_data"
    }
   ],
   "source": [
    "plt.scatter(df2['Living Space'], df2['List Price'], color='red')\n",
    "plt.title('LIVING SPACE  Vs  LIST PRICE ', fontsize=14)\n",
    "plt.xlabel('space in fit', fontsize=14)\n",
    "plt.ylabel(' Price in dollar', fontsize=14)\n",
    "plt.grid(True)\n",
    "plt.show()\n",
    "\n",
    " # There is lineear relationship exist between the two "
   ]
  },
  {
   "cell_type": "code",
   "execution_count": 32,
   "metadata": {},
   "outputs": [
    {
     "data": {
      "image/png": "[encoded data removed]",
      "text/plain": [
       "<Figure size 432x288 with 1 Axes>"
      ]
     },
     "metadata": {
      "needs_background": "light"
     },
     "output_type": "display_data"
    }
   ],
   "source": [
    "plt.scatter(df2['Beds'], df2['List Price'], color='green')\n",
    "plt.title('LIVING SPACE  Vs  LIST PRICE ', fontsize=14)\n",
    "plt.xlabel('space in fit', fontsize=14)\n",
    "plt.ylabel(' Price in dollar', fontsize=14)\n",
    "plt.grid(True)\n",
    "plt.show()\n",
    "\n",
    "## There is no Linear relationship exist"
   ]
  },
  {
   "cell_type": "markdown",
   "metadata": {},
   "source": [
    "## 2c"
   ]
  },
  {
   "cell_type": "code",
   "execution_count": 33,
   "metadata": {},
   "outputs": [],
   "source": [
    "X = df2.iloc[:, 1].values.reshape(-1,1)\n",
    "y = df2.iloc[:, -1].values.reshape(-1,1)\n",
    "n = np.size(X)"
   ]
  },
  {
   "cell_type": "code",
   "execution_count": 34,
   "metadata": {},
   "outputs": [
    {
     "data": {
      "text/plain": [
       "(2645.65, 383440.0)"
      ]
     },
     "execution_count": 34,
     "metadata": {},
     "output_type": "execute_result"
    }
   ],
   "source": [
    "x_mean = np.mean(X)\n",
    "y_mean = np.mean(y)\n",
    "x_mean,y_mean\n",
    "  \n"
   ]
  },
  {
   "cell_type": "code",
   "execution_count": 35,
   "metadata": {},
   "outputs": [
    {
     "name": "stdout",
     "output_type": "stream",
     "text": [
      "suumxy: 3566784080.0\n",
      "sumxx : 23469986.549999982\n"
     ]
    }
   ],
   "source": [
    "Sxy = np.sum(X*y)- n*x_mean*y_mean\n",
    "Sxx = np.sum(X*X)-n*x_mean*x_mean\n",
    "  \n",
    "\n",
    "print('suumxy:', Sxy)\n",
    "print('sumxx :',Sxx)\n"
   ]
  },
  {
   "cell_type": "code",
   "execution_count": 36,
   "metadata": {},
   "outputs": [
    {
     "name": "stdout",
     "output_type": "stream",
     "text": [
      "slope b1 is 151.97213992438367\n",
      "intercept b0 is -18625.091990945686\n"
     ]
    }
   ],
   "source": [
    "b1 = Sxy/Sxx\n",
    "b0 = y_mean-b1*x_mean\n",
    "print('slope b1 is', b1)\n",
    "print('intercept b0 is', b0)"
   ]
  },
  {
   "cell_type": "code",
   "execution_count": 37,
   "metadata": {},
   "outputs": [
    {
     "data": {
      "text/plain": [
       "Text(0, 0.5, 'Dependent variable y')"
      ]
     },
     "execution_count": 37,
     "metadata": {},
     "output_type": "execute_result"
    },
    {
     "data": {
      "image/png": "[encoded data removed]",
      "text/plain": [
       "<Figure size 432x288 with 1 Axes>"
      ]
     },
     "metadata": {
      "needs_background": "light"
     },
     "output_type": "display_data"
    }
   ],
   "source": [
    "plt.scatter(X,y)\n",
    "plt.xlabel('Independent variable X')\n",
    "plt.ylabel('Dependent variable y')"
   ]
  },
  {
   "cell_type": "code",
   "execution_count": 38,
   "metadata": {},
   "outputs": [
    {
     "data": {
      "text/plain": [
       "array([[319057.00292103],\n",
       "       [228785.55180595],\n",
       "       [562516.3710799 ],\n",
       "       [154167.23110308],\n",
       "       [522395.72613986],\n",
       "       [421030.3088103 ],\n",
       "       [533185.74807449],\n",
       "       [358721.7314413 ],\n",
       "       [346108.04382758],\n",
       "       [284863.27143805],\n",
       "       [300060.48543049],\n",
       "       [467685.75576708],\n",
       "       [724822.61651914],\n",
       "       [152799.48184376],\n",
       "       [191248.43324463],\n",
       "       [626040.72556829],\n",
       "       [366320.33843752],\n",
       "       [157358.64604149],\n",
       "       [360849.34140024],\n",
       "       [590783.18910583]])"
      ]
     },
     "execution_count": 38,
     "metadata": {},
     "output_type": "execute_result"
    }
   ],
   "source": [
    "y_pred = b1 * X + b0\n",
    "  \n",
    "y_pred"
   ]
  },
  {
   "cell_type": "code",
   "execution_count": 39,
   "metadata": {},
   "outputs": [
    {
     "data": {
      "text/plain": [
       "Text(0, 0.5, 'y')"
      ]
     },
     "execution_count": 39,
     "metadata": {},
     "output_type": "execute_result"
    },
    {
     "data": {
      "image/png": "[encoded data removed]",
      "text/plain": [
       "<Figure size 432x288 with 1 Axes>"
      ]
     },
     "metadata": {
      "needs_background": "light"
     },
     "output_type": "display_data"
    }
   ],
   "source": [
    "plt.scatter(X, y, color = 'red')\n",
    "plt.plot(X, y_pred, color = 'green')\n",
    "plt.xlabel('X')\n",
    "plt.ylabel('y')"
   ]
  },
  {
   "cell_type": "code",
   "execution_count": 40,
   "metadata": {},
   "outputs": [
    {
     "name": "stdout",
     "output_type": "stream",
     "text": [
      "squared error is 262328538714.17633\n",
      "mean squared error is 13116426935.708817\n",
      "root mean square error is 114526.97034196276\n",
      "R square is 0.6738750028311529\n"
     ]
    }
   ],
   "source": [
    "error = y - y_pred\n",
    "se = np.sum(error**2)\n",
    "print('squared error is', se)\n",
    "  \n",
    "mse = se/n \n",
    "print('mean squared error is', mse)\n",
    "  \n",
    "rmse = np.sqrt(mse)\n",
    "print('root mean square error is', rmse)\n",
    "  \n",
    "SSt = np.sum((y - y_mean)**2)\n",
    "R2 = 1- (se/SSt)\n",
    "print('R square is', R2)"
   ]
  },
  {
   "cell_type": "markdown",
   "metadata": {},
   "source": [
    "## 2d"
   ]
  },
  {
   "cell_type": "code",
   "execution_count": 41,
   "metadata": {},
   "outputs": [],
   "source": [
    "X = df2.iloc[:, 1].values.reshape(-1,1)\n"
   ]
  },
  {
   "cell_type": "code",
   "execution_count": 42,
   "metadata": {},
   "outputs": [
    {
     "data": {
      "text/plain": [
       "array([[2222],\n",
       "       [1628],\n",
       "       [3824],\n",
       "       [1137],\n",
       "       [3560],\n",
       "       [2893],\n",
       "       [3631],\n",
       "       [2483],\n",
       "       [2400],\n",
       "       [1997],\n",
       "       [2097],\n",
       "       [3200],\n",
       "       [4892],\n",
       "       [1128],\n",
       "       [1381],\n",
       "       [4242],\n",
       "       [2533],\n",
       "       [1158],\n",
       "       [2497],\n",
       "       [4010]], dtype=int64)"
      ]
     },
     "execution_count": 42,
     "metadata": {},
     "output_type": "execute_result"
    }
   ],
   "source": [
    "X "
   ]
  },
  {
   "cell_type": "code",
   "execution_count": 43,
   "metadata": {},
   "outputs": [
    {
     "data": {
      "text/plain": [
       "<matplotlib.collections.PathCollection at 0x22da94f9408>"
      ]
     },
     "execution_count": 43,
     "metadata": {},
     "output_type": "execute_result"
    },
    {
     "data": {
      "image/png": "[encoded data removed]",
      "text/plain": [
       "<Figure size 432x288 with 1 Axes>"
      ]
     },
     "metadata": {
      "needs_background": "light"
     },
     "output_type": "display_data"
    }
   ],
   "source": [
    "plt.scatter(X, y, color = 'red')"
   ]
  },
  {
   "cell_type": "code",
   "execution_count": 44,
   "metadata": {},
   "outputs": [
    {
     "data": {
      "text/plain": [
       "array([[250000],\n",
       "       [185000],\n",
       "       [399000],\n",
       "       [150000],\n",
       "       [315000],\n",
       "       [699000],\n",
       "       [649000],\n",
       "       [399000],\n",
       "       [613000],\n",
       "       [295000],\n",
       "       [290000],\n",
       "       [465000],\n",
       "       [799900],\n",
       "       [ 89000],\n",
       "       [143000],\n",
       "       [569000],\n",
       "       [365000],\n",
       "       [155000],\n",
       "       [289000],\n",
       "       [549900]], dtype=int64)"
      ]
     },
     "execution_count": 44,
     "metadata": {},
     "output_type": "execute_result"
    }
   ],
   "source": [
    "y = df2.iloc[:, -1].values.reshape(-1,1)\n",
    "y "
   ]
  },
  {
   "cell_type": "code",
   "execution_count": 45,
   "metadata": {},
   "outputs": [],
   "source": [
    "model2 = LinearRegression()"
   ]
  },
  {
   "cell_type": "code",
   "execution_count": 46,
   "metadata": {},
   "outputs": [],
   "source": [
    "X_train, X_test, y_train, y_test = train_test_split(X, y, test_size=0.3, random_state=0)\n"
   ]
  },
  {
   "cell_type": "code",
   "execution_count": 47,
   "metadata": {},
   "outputs": [
    {
     "data": {
      "text/plain": [
       "LinearRegression(copy_X=True, fit_intercept=True, n_jobs=None, normalize=False)"
      ]
     },
     "execution_count": 47,
     "metadata": {},
     "output_type": "execute_result"
    }
   ],
   "source": [
    "model2 = LinearRegression()\n",
    "model2.fit(X_train, y_train)"
   ]
  },
  {
   "cell_type": "code",
   "execution_count": 48,
   "metadata": {},
   "outputs": [
    {
     "name": "stdout",
     "output_type": "stream",
     "text": [
      "intercept: [-36956.39040064]\n"
     ]
    }
   ],
   "source": [
    "print('intercept:', model2.intercept_)"
   ]
  },
  {
   "cell_type": "code",
   "execution_count": 49,
   "metadata": {},
   "outputs": [
    {
     "name": "stdout",
     "output_type": "stream",
     "text": [
      "slope: [[156.02815391]]\n"
     ]
    }
   ],
   "source": [
    "print('slope:',model2.coef_)"
   ]
  },
  {
   "cell_type": "code",
   "execution_count": 50,
   "metadata": {},
   "outputs": [],
   "source": [
    "y_pred = model2.predict(X)"
   ]
  },
  {
   "cell_type": "code",
   "execution_count": 51,
   "metadata": {},
   "outputs": [
    {
     "data": {
      "image/png": "[encoded data removed]",
      "text/plain": [
       "<Figure size 432x288 with 1 Axes>"
      ]
     },
     "metadata": {
      "needs_background": "light"
     },
     "output_type": "display_data"
    }
   ],
   "source": [
    "plt.scatter(X, y, color = 'blue')\n",
    "plt.plot(X, y_pred, color = 'red')\n",
    "plt.xlabel('space')\n",
    "plt.ylabel('price')\n",
    "plt.grid(True)"
   ]
  },
  {
   "cell_type": "code",
   "execution_count": 52,
   "metadata": {},
   "outputs": [
    {
     "name": "stdout",
     "output_type": "stream",
     "text": [
      "Mean Absolute Error: 77617.37303937119\n",
      "Mean Squared Error: 13193500142.115677\n",
      "Root Mean Squared Error: 114862.96244706419\n"
     ]
    }
   ],
   "source": [
    "print('Mean Absolute Error:', metrics.mean_absolute_error(y, y_pred))\n",
    "print('Mean Squared Error:', metrics.mean_squared_error(y , y_pred))\n",
    "print('Root Mean Squared Error:', np.sqrt(metrics.mean_squared_error(y , y_pred)))"
   ]
  },
  {
   "cell_type": "markdown",
   "metadata": {},
   "source": [
    "## 2e"
   ]
  },
  {
   "cell_type": "code",
   "execution_count": 53,
   "metadata": {},
   "outputs": [
    {
     "name": "stdout",
     "output_type": "stream",
     "text": [
      "Predicted Housing Price: \n",
      " [[243894.28664601]]\n"
     ]
    }
   ],
   "source": [
    "w = np.array (1800). reshape(-1,1)\n",
    "#c =x = np.array([1,2500])\n",
    "print ('Predicted Housing Price: \\n',model2.predict(w))"
   ]
  },
  {
   "cell_type": "code",
   "execution_count": 54,
   "metadata": {},
   "outputs": [
    {
     "name": "stdout",
     "output_type": "stream",
     "text": [
      "Predicted Housing Price: \n",
      " [[353113.99438638]]\n"
     ]
    }
   ],
   "source": [
    "#w = np.array (1800). reshape(-1,1)\n",
    "c =x = np.array(2500). reshape(-1,1)\n",
    "print ('Predicted Housing Price: \\n',model2.predict(c))"
   ]
  },
  {
   "cell_type": "code",
   "execution_count": null,
   "metadata": {},
   "outputs": [],
   "source": []
  },
  {
   "cell_type": "markdown",
   "metadata": {},
   "source": [
    "## 2f"
   ]
  },
  {
   "cell_type": "code",
   "execution_count": 63,
   "metadata": {},
   "outputs": [],
   "source": [
    "# X = df2.iloc[:, 1].values.reshape(-1,1)\n",
    "# x2 = df2.iloc[:,2].values.reshape(-1,1)\n",
    "# y = df2.iloc[:, -1].values.reshape(-1,1)\n",
    "# df2['X'] = X\n",
    "# df2['x2'] = x2\n",
    "# df2['y']= y\n",
    "# df2[['X', 'x2']]\n",
    "\n",
    "k= df2[['Living Space','Beds']]\n",
    "o = df2['y']"
   ]
  },
  {
   "cell_type": "code",
   "execution_count": 64,
   "metadata": {},
   "outputs": [
    {
     "data": {
      "text/plain": [
       "0     250000\n",
       "1     185000\n",
       "2     399000\n",
       "3     150000\n",
       "4     315000\n",
       "5     699000\n",
       "6     649000\n",
       "7     399000\n",
       "8     613000\n",
       "9     295000\n",
       "10    290000\n",
       "11    465000\n",
       "12    799900\n",
       "13     89000\n",
       "14    143000\n",
       "15    569000\n",
       "16    365000\n",
       "17    155000\n",
       "18    289000\n",
       "19    549900\n",
       "Name: y, dtype: int64"
      ]
     },
     "execution_count": 64,
     "metadata": {},
     "output_type": "execute_result"
    }
   ],
   "source": [
    "o"
   ]
  },
  {
   "cell_type": "code",
   "execution_count": 65,
   "metadata": {},
   "outputs": [],
   "source": [
    "# df2['X'] = X\n",
    "# df2['x2'] = x2"
   ]
  },
  {
   "cell_type": "code",
   "execution_count": 66,
   "metadata": {},
   "outputs": [
    {
     "data": {
      "text/plain": [
       "LinearRegression(copy_X=True, fit_intercept=True, n_jobs=None, normalize=False)"
      ]
     },
     "execution_count": 66,
     "metadata": {},
     "output_type": "execute_result"
    }
   ],
   "source": [
    "model3 = LinearRegression()\n",
    "model3.fit(k, o)"
   ]
  },
  {
   "cell_type": "code",
   "execution_count": 67,
   "metadata": {},
   "outputs": [
    {
     "name": "stdout",
     "output_type": "stream",
     "text": [
      "coeficients as : [   179.54393123 -38816.59840219]\n"
     ]
    }
   ],
   "source": [
    "print('coeficients as :',model3.coef_)"
   ]
  },
  {
   "cell_type": "markdown",
   "metadata": {},
   "source": []
  },
  {
   "cell_type": "markdown",
   "metadata": {},
   "source": [
    "##2g"
   ]
  },
  {
   "cell_type": "code",
   "execution_count": 68,
   "metadata": {},
   "outputs": [],
   "source": [
    "y_pred = model3.predict(k)"
   ]
  },
  {
   "cell_type": "code",
   "execution_count": 69,
   "metadata": {},
   "outputs": [
    {
     "data": {
      "text/plain": [
       "array([340370.32217572, 233721.22702432, 550366.5032039 , 145565.15678974,\n",
       "       464150.30695664, 422027.70162974, 554531.12287844, 348414.6898249 ,\n",
       "       333512.5435327 , 299972.93764867, 279110.73236961, 438331.09011556,\n",
       "       742119.42175894, 182765.85981085, 189373.87601018, 664232.46486077,\n",
       "       396208.48478865, 149335.5793456 , 350928.30486214, 583761.67441292])"
      ]
     },
     "execution_count": 69,
     "metadata": {},
     "output_type": "execute_result"
    }
   ],
   "source": [
    "y_pred"
   ]
  },
  {
   "cell_type": "code",
   "execution_count": null,
   "metadata": {},
   "outputs": [],
   "source": [
    "#y_pred = b0 + b1 * X+ b2* x2"
   ]
  },
  {
   "cell_type": "code",
   "execution_count": 70,
   "metadata": {},
   "outputs": [
    {
     "name": "stdout",
     "output_type": "stream",
     "text": [
      "Predicted Stock Index Price: \n",
      " [336420.35568863]\n"
     ]
    }
   ],
   "source": [
    "New_house = 2200\n",
    "New_bed = 3\n",
    "print ('Predicted Price: \\n', model3.predict([[New_house ,New_bed]]))"
   ]
  }
 ],
 "metadata": {
  "kernelspec": {
   "display_name": "Python 3",
   "language": "python",
   "name": "python3"
  },
  "language_info": {
   "codemirror_mode": {
    "name": "ipython",
    "version": 3
   },
   "file_extension": ".py",
   "mimetype": "text/x-python",
   "name": "python",
   "nbconvert_exporter": "python",
   "pygments_lexer": "ipython3",
   "version": "3.7.4"
  }
 },
 "nbformat": 4,
 "nbformat_minor": 2
}
